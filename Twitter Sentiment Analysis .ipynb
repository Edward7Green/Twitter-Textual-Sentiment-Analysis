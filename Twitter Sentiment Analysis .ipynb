{
 "cells": [
  {
   "cell_type": "code",
   "execution_count": 122,
   "metadata": {},
   "outputs": [
    {
     "name": "stderr",
     "output_type": "stream",
     "text": [
      "[nltk_data] Downloading package vader_lexicon to\n",
      "[nltk_data]     C:\\Users\\RWM\\AppData\\Roaming\\nltk_data...\n",
      "[nltk_data]   Package vader_lexicon is already up-to-date!\n"
     ]
    }
   ],
   "source": [
    "import pandas as pd\n",
    "import numpy as np\n",
    "import matplotlib.pyplot as plt\n",
    "import seaborn as sns\n",
    "import nltk\n",
    "import string\n",
    "import GetOldTweets3 as got\n",
    "from nltk.corpus import stopwords\n",
    "from nltk.tokenize import word_tokenize\n",
    "from nltk.sentiment.vader import SentimentIntensityAnalyzer\n",
    "from collections import Counter\n",
    "nltk.download('vader_lexicon')\n",
    "sns.set_style(\"darkgrid\")\n",
    "%matplotlib inline"
   ]
  },
  {
   "cell_type": "markdown",
   "metadata": {},
   "source": [
    "### Different functions we will be using"
   ]
  },
  {
   "cell_type": "code",
   "execution_count": 103,
   "metadata": {},
   "outputs": [],
   "source": [
    "# Function to scrape for tweets, inputting the string and number of tweets in question\n",
    "\n",
    "def get_tweets(word, number_of_tweets):\n",
    "    tweetCriteria = got.manager.TweetCriteria().setQuerySearch(word)\\\n",
    "                                               .setSince(\"2020-05-01\")\\\n",
    "                                               .setUntil(\"2020-05-12\")\\\n",
    "                                               .setMaxTweets(number_of_tweets)\n",
    "    \n",
    "    # List of objects gets stores in \"tweets\" variable\n",
    "    tweets = got.manager.TweetManager.getTweets(tweetCriteria)\n",
    "    \n",
    "    # Iterating through tweets list. Stoing them temporarily in tweet variable\n",
    "    # Get text and store it as a list inside \"text_tweets\"\n",
    "    text_tweets = [[tweet.text] for tweet in tweets]\n",
    "    return text_tweets"
   ]
  },
  {
   "cell_type": "code",
   "execution_count": 104,
   "metadata": {},
   "outputs": [],
   "source": [
    "# Function to tokenize words (Removing punctuation, removing stop words, putting lowercase)\n",
    "\n",
    "def tokenize(text):   \n",
    "    a = \"\"\n",
    "    for word in text:\n",
    "        a += word\n",
    "    nopuncc = [char.lower() for char in a if char not in string.punctuation]\n",
    "    word_list = word_tokenize(\"\".join(nopuncc), \"english\")\n",
    "    final_words = [word for word in word_list if word not in stopwords.words(\"english\")]\n",
    "    return final_words"
   ]
  },
  {
   "cell_type": "code",
   "execution_count": null,
   "metadata": {},
   "outputs": [],
   "source": [
    "# Function to clean the given text without tokenizing it\n",
    "\n",
    "def clean_text(text):\n",
    "    \n",
    "    # Converting to lowercase\n",
    "    lower_case = text.lower()\n",
    "\n",
    "    # Removing punctuation\n",
    "    cleaned_text = lower_case.translate(str.maketrans(\"\",\"\", string.punctuation))\n",
    "    \n",
    "    # Removing stopwords\n",
    "    stop_text = [word for word in cleaned_text.split() if word not in stopwords.words(\"english\")]\n",
    "    \n",
    "    final_text = \"\"\n",
    "    for word in stop_text:\n",
    "        final_text = final_text + \" \" + word\n",
    "    return final_text"
   ]
  },
  {
   "cell_type": "code",
   "execution_count": 105,
   "metadata": {},
   "outputs": [],
   "source": [
    "# Function to generate text from tweets\n",
    "\n",
    "def get_text_from_tweet(name, number_of_tweets):\n",
    "    \n",
    "    text = \"\"\n",
    "    text_tweets = get_tweets(name, number_of_tweets)\n",
    "    length = len(text_tweets)\n",
    "\n",
    "    for i in range(0,length):\n",
    "        text = text_tweets[i][0] + \" \" + text\n",
    "    return text"
   ]
  },
  {
   "cell_type": "code",
   "execution_count": 106,
   "metadata": {},
   "outputs": [],
   "source": [
    "# Function to generate cleaned text from tweets\n",
    "\n",
    "def get_clean_text_from_tweet(name, number_of_tweets):\n",
    "    \n",
    "    text = \"\"\n",
    "    text_tweets = get_tweets(name, number_of_tweets)\n",
    "    length = len(text_tweets)\n",
    "\n",
    "    for i in range(0,length):\n",
    "        text = text_tweets[i][0] + \" \" + text\n",
    "    \n",
    "    return clean_text(text)"
   ]
  },
  {
   "cell_type": "code",
   "execution_count": 108,
   "metadata": {},
   "outputs": [],
   "source": [
    "# Function to build sentiment analysis using NLTK\n",
    "\n",
    "def sentiment_analyse(text):\n",
    "    score = SentimentIntensityAnalyzer().polarity_scores(text)\n",
    "    neg = score[\"neg\"]\n",
    "    pos = score[\"pos\"]\n",
    "    \n",
    "    print(score)\n",
    "    \n",
    "    if neg > pos:\n",
    "        print(\"\\nWe have an overall Negative sentiment\")\n",
    "    elif neg < pos:\n",
    "        print(\"\\nWe have an overall Positive sentiment\")\n",
    "    else:\n",
    "        print(\"\\nWe have an overall Neutral sentiment\")"
   ]
  },
  {
   "cell_type": "code",
   "execution_count": 109,
   "metadata": {},
   "outputs": [
    {
     "name": "stdout",
     "output_type": "stream",
     "text": [
      "{'neg': 0.204, 'neu': 0.636, 'pos': 0.16, 'compound': -1.0}\n",
      "\n",
      "We have an overall Negative sentiment\n"
     ]
    }
   ],
   "source": [
    "sentiment_analyse(get_clean_text_from_tweet(\"Donald Trump\", 1000))"
   ]
  },
  {
   "cell_type": "code",
   "execution_count": 159,
   "metadata": {},
   "outputs": [],
   "source": [
    "# Function to track the emotions and build a corresponding barplot\n",
    "\n",
    "def emotion_tracker(text):\n",
    "    \n",
    "    emotion_list = []\n",
    "\n",
    "    with open(\"emotions.txt\", \"r\") as file:\n",
    "        for line in file:\n",
    "            clear_line = line.replace(\"\\n\", \"\").replace(\",\", \"\").replace(\"'\", \"\").strip()\n",
    "            word, emotion = clear_line.split(\":\")\n",
    "\n",
    "            if word in final_words:\n",
    "                emotion_list.append(emotion)\n",
    "                \n",
    "    w = Counter(emotion_list)\n",
    "    print(w)\n",
    "    \n",
    "    # Build a barplot showing these emotions\n",
    "    \n",
    "    fig,ax1 = plt.subplots()\n",
    "    ax1.bar(w.keys(), w.values())\n",
    "    \n",
    "    # Automatically formats it properly\n",
    "    fig.autofmt_xdate()\n",
    "\n",
    "    #plt.savefig(\"graph.png\")"
   ]
  },
  {
   "cell_type": "markdown",
   "metadata": {},
   "source": [
    "### Now we build the script which will use the above functions to:\n",
    "1) Tokenize / Clean the text from the \"read.txt\" file\n",
    "\n",
    "2) Extract and count the emotions\n",
    "\n",
    "3) Build a bar chart around those emotions\n",
    "\n",
    "4) Perform overall NLTK sentiment analysis"
   ]
  },
  {
   "cell_type": "code",
   "execution_count": 160,
   "metadata": {},
   "outputs": [
    {
     "name": "stdout",
     "output_type": "stream",
     "text": [
      "Counter({' sad': 4, ' happy': 2, ' attached': 1, ' fearful': 1, ' loved': 1})\n",
      "{'neg': 0.155, 'neu': 0.71, 'pos': 0.135, 'compound': -0.7844}\n",
      "\n",
      "We have an overall Negative sentiment\n"
     ]
    },
    {
     "data": {
      "image/png": "[encoded data removed]",
      "text/plain": [
       "<Figure size 432x288 with 1 Axes>"
      ]
     },
     "metadata": {
      "needs_background": "light"
     },
     "output_type": "display_data"
    }
   ],
   "source": [
    "text = open(\"read.txt\", encoding = \"utf-8\").read()\n",
    "final_words = tokenize(text)\n",
    "emotion_tracker(final_words)\n",
    "sentiment_analyse(text)"
   ]
  },
  {
   "cell_type": "markdown",
   "metadata": {},
   "source": [
    "### Same but for twitter analysis"
   ]
  },
  {
   "cell_type": "code",
   "execution_count": 162,
   "metadata": {},
   "outputs": [
    {
     "name": "stdout",
     "output_type": "stream",
     "text": [
      "Counter({' fearful': 9, ' sad': 6, ' powerless': 5, ' attracted': 4, ' happy': 4, ' entitled': 3, ' hated': 3, ' esteemed': 3, ' singled out': 2, ' angry': 2, ' cheated': 2, ' embarrassed': 2, ' attached': 2, ' adequate': 2, ' independent': 2, ' safe': 1, ' fearless': 1, ' average': 1, ' free': 1, ' codependent': 1, ' apathetic': 1, ' lost': 1, ' surprise': 1, ' focused': 1, ' loved': 1})\n",
      "{'neg': 0.204, 'neu': 0.635, 'pos': 0.16, 'compound': -1.0}\n",
      "\n",
      "We have an overall Negative sentiment\n"
     ]
    },
    {
     "data": {
      "text/plain": [
       "<Figure size 720x432 with 0 Axes>"
      ]
     },
     "metadata": {},
     "output_type": "display_data"
    },
    {
     "data": {
      "image/png": "[encoded data removed]",
      "text/plain": [
       "<Figure size 432x288 with 1 Axes>"
      ]
     },
     "metadata": {
      "needs_background": "light"
     },
     "output_type": "display_data"
    }
   ],
   "source": [
    "# Can change dates of tweets to scrape from in initial \"get_tweets\" function\n",
    "\n",
    "text = get_clean_text_from_tweet(\"Donald Trump\", 1000)\n",
    "final_words = tokenize(text)\n",
    "emotion_tracker(final_words)\n",
    "sentiment_analyse(text)"
   ]
  },
  {
   "cell_type": "code",
   "execution_count": null,
   "metadata": {},
   "outputs": [],
   "source": []
  }
 ],
 "metadata": {
  "kernelspec": {
   "display_name": "Python 3",
   "language": "python",
   "name": "python3"
  },
  "language_info": {
   "codemirror_mode": {
    "name": "ipython",
    "version": 3
   },
   "file_extension": ".py",
   "mimetype": "text/x-python",
   "name": "python",
   "nbconvert_exporter": "python",
   "pygments_lexer": "ipython3",
   "version": "3.7.4"
  }
 },
 "nbformat": 4,
 "nbformat_minor": 4
}
